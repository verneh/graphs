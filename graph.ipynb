{
  "nbformat": 4,
  "nbformat_minor": 0,
  "metadata": {
    "colab": {
      "name": "graph.ipynb",
      "provenance": [],
      "authorship_tag": "ABX9TyNkAr7+Xb/7NQyC/CS+k642",
      "include_colab_link": true
    },
    "kernelspec": {
      "name": "python3",
      "display_name": "Python 3"
    },
    "language_info": {
      "name": "python"
    },
    "accelerator": "GPU"
  },
  "cells": [
    {
      "cell_type": "markdown",
      "metadata": {
        "id": "view-in-github",
        "colab_type": "text"
      },
      "source": [
        "<a href=\"https://colab.research.google.com/github/verneh/graphs/blob/main/graph.ipynb\" target=\"_parent\"><img src=\"https://colab.research.google.com/assets/colab-badge.svg\" alt=\"Open In Colab\"/></a>"
      ]
    },
    {
      "cell_type": "markdown",
      "source": [
        "Graphistry Test"
      ],
      "metadata": {
        "id": "wztl1CSJpOCc"
      }
    },
    {
      "cell_type": "code",
      "execution_count": 5,
      "metadata": {
        "colab": {
          "base_uri": "https://localhost:8080/"
        },
        "id": "nRyD3QnomvPb",
        "outputId": "190f6648-63cd-48a9-d74a-6ba4f3c100ff"
      },
      "outputs": [
        {
          "output_type": "stream",
          "name": "stdout",
          "text": [
            "Requirement already satisfied: graphistry[all] in /root/.local/lib/python3.7/site-packages (0.23.1)\n",
            "Requirement already satisfied: requests in /usr/local/lib/python3.7/dist-packages (from graphistry[all]) (2.23.0)\n",
            "Requirement already satisfied: pyarrow>=0.15.0 in /usr/local/lib/python3.7/dist-packages (from graphistry[all]) (6.0.1)\n",
            "Requirement already satisfied: numpy in /usr/local/lib/python3.7/dist-packages (from graphistry[all]) (1.21.5)\n",
            "Requirement already satisfied: protobuf>=2.6.0 in /usr/local/lib/python3.7/dist-packages (from graphistry[all]) (3.17.3)\n",
            "Requirement already satisfied: pandas>=0.17.0 in /usr/local/lib/python3.7/dist-packages (from graphistry[all]) (1.3.5)\n",
            "Requirement already satisfied: ipython in /usr/local/lib/python3.7/dist-packages (from graphistry[all]) (5.5.0)\n",
            "Requirement already satisfied: openpyxl in /usr/local/lib/python3.7/dist-packages (from graphistry[all]) (3.0.9)\n",
            "Requirement already satisfied: gremlinpython in /root/.local/lib/python3.7/site-packages (from graphistry[all]) (3.5.2)\n",
            "Requirement already satisfied: python-igraph in /root/.local/lib/python3.7/site-packages (from graphistry[all]) (0.9.9)\n",
            "Requirement already satisfied: xlrd in /usr/local/lib/python3.7/dist-packages (from graphistry[all]) (1.1.0)\n",
            "Requirement already satisfied: networkx>=2.5 in /usr/local/lib/python3.7/dist-packages (from graphistry[all]) (2.6.3)\n",
            "Requirement already satisfied: neotime in /root/.local/lib/python3.7/site-packages (from graphistry[all]) (1.7.4)\n",
            "Requirement already satisfied: neo4j in /root/.local/lib/python3.7/site-packages (from graphistry[all]) (4.4.2)\n",
            "Requirement already satisfied: python-dateutil>=2.7.3 in /usr/local/lib/python3.7/dist-packages (from pandas>=0.17.0->graphistry[all]) (2.8.2)\n",
            "Requirement already satisfied: pytz>=2017.3 in /usr/local/lib/python3.7/dist-packages (from pandas>=0.17.0->graphistry[all]) (2018.9)\n",
            "Requirement already satisfied: six>=1.9 in /usr/local/lib/python3.7/dist-packages (from protobuf>=2.6.0->graphistry[all]) (1.15.0)\n",
            "Requirement already satisfied: isodate<1.0.0,>=0.6.0 in /root/.local/lib/python3.7/site-packages (from gremlinpython->graphistry[all]) (0.6.1)\n",
            "Requirement already satisfied: nest-asyncio in /usr/local/lib/python3.7/dist-packages (from gremlinpython->graphistry[all]) (1.5.4)\n",
            "Requirement already satisfied: aiohttp<=3.8.1,>=3.8.0 in /root/.local/lib/python3.7/site-packages (from gremlinpython->graphistry[all]) (3.8.1)\n",
            "Requirement already satisfied: aenum<3.0.0,>=1.4.5 in /root/.local/lib/python3.7/site-packages (from gremlinpython->graphistry[all]) (2.2.6)\n",
            "Requirement already satisfied: yarl<2.0,>=1.0 in /root/.local/lib/python3.7/site-packages (from aiohttp<=3.8.1,>=3.8.0->gremlinpython->graphistry[all]) (1.7.2)\n",
            "Requirement already satisfied: charset-normalizer<3.0,>=2.0 in /usr/local/lib/python3.7/dist-packages (from aiohttp<=3.8.1,>=3.8.0->gremlinpython->graphistry[all]) (2.0.12)\n",
            "Requirement already satisfied: async-timeout<5.0,>=4.0.0a3 in /root/.local/lib/python3.7/site-packages (from aiohttp<=3.8.1,>=3.8.0->gremlinpython->graphistry[all]) (4.0.2)\n",
            "Requirement already satisfied: typing-extensions>=3.7.4 in /usr/local/lib/python3.7/dist-packages (from aiohttp<=3.8.1,>=3.8.0->gremlinpython->graphistry[all]) (3.10.0.2)\n",
            "Requirement already satisfied: attrs>=17.3.0 in /usr/local/lib/python3.7/dist-packages (from aiohttp<=3.8.1,>=3.8.0->gremlinpython->graphistry[all]) (21.4.0)\n",
            "Requirement already satisfied: asynctest==0.13.0 in /root/.local/lib/python3.7/site-packages (from aiohttp<=3.8.1,>=3.8.0->gremlinpython->graphistry[all]) (0.13.0)\n",
            "Requirement already satisfied: frozenlist>=1.1.1 in /root/.local/lib/python3.7/site-packages (from aiohttp<=3.8.1,>=3.8.0->gremlinpython->graphistry[all]) (1.3.0)\n",
            "Requirement already satisfied: aiosignal>=1.1.2 in /root/.local/lib/python3.7/site-packages (from aiohttp<=3.8.1,>=3.8.0->gremlinpython->graphistry[all]) (1.2.0)\n",
            "Requirement already satisfied: multidict<7.0,>=4.5 in /root/.local/lib/python3.7/site-packages (from aiohttp<=3.8.1,>=3.8.0->gremlinpython->graphistry[all]) (6.0.2)\n",
            "Requirement already satisfied: idna>=2.0 in /usr/local/lib/python3.7/dist-packages (from yarl<2.0,>=1.0->aiohttp<=3.8.1,>=3.8.0->gremlinpython->graphistry[all]) (2.10)\n",
            "Requirement already satisfied: prompt-toolkit<2.0.0,>=1.0.4 in /usr/local/lib/python3.7/dist-packages (from ipython->graphistry[all]) (1.0.18)\n",
            "Requirement already satisfied: pexpect in /usr/local/lib/python3.7/dist-packages (from ipython->graphistry[all]) (4.8.0)\n",
            "Requirement already satisfied: traitlets>=4.2 in /usr/local/lib/python3.7/dist-packages (from ipython->graphistry[all]) (5.1.1)\n",
            "Requirement already satisfied: pickleshare in /usr/local/lib/python3.7/dist-packages (from ipython->graphistry[all]) (0.7.5)\n",
            "Requirement already satisfied: decorator in /usr/local/lib/python3.7/dist-packages (from ipython->graphistry[all]) (4.4.2)\n",
            "Requirement already satisfied: setuptools>=18.5 in /usr/local/lib/python3.7/dist-packages (from ipython->graphistry[all]) (57.4.0)\n",
            "Requirement already satisfied: pygments in /usr/local/lib/python3.7/dist-packages (from ipython->graphistry[all]) (2.6.1)\n",
            "Requirement already satisfied: simplegeneric>0.8 in /usr/local/lib/python3.7/dist-packages (from ipython->graphistry[all]) (0.8.1)\n",
            "Requirement already satisfied: wcwidth in /usr/local/lib/python3.7/dist-packages (from prompt-toolkit<2.0.0,>=1.0.4->ipython->graphistry[all]) (0.2.5)\n",
            "Requirement already satisfied: et-xmlfile in /usr/local/lib/python3.7/dist-packages (from openpyxl->graphistry[all]) (1.1.0)\n",
            "Requirement already satisfied: ptyprocess>=0.5 in /usr/local/lib/python3.7/dist-packages (from pexpect->ipython->graphistry[all]) (0.7.0)\n",
            "Requirement already satisfied: igraph==0.9.9 in /root/.local/lib/python3.7/site-packages (from python-igraph->graphistry[all]) (0.9.9)\n",
            "Requirement already satisfied: texttable>=1.6.2 in /root/.local/lib/python3.7/site-packages (from igraph==0.9.9->python-igraph->graphistry[all]) (1.6.4)\n",
            "Requirement already satisfied: chardet<4,>=3.0.2 in /usr/local/lib/python3.7/dist-packages (from requests->graphistry[all]) (3.0.4)\n",
            "Requirement already satisfied: certifi>=2017.4.17 in /usr/local/lib/python3.7/dist-packages (from requests->graphistry[all]) (2021.10.8)\n",
            "Requirement already satisfied: urllib3!=1.25.0,!=1.25.1,<1.26,>=1.21.1 in /usr/local/lib/python3.7/dist-packages (from requests->graphistry[all]) (1.24.3)\n"
          ]
        }
      ],
      "source": [
        "# install graphistry\n",
        "!pip install \"graphistry[all]\""
      ]
    },
    {
      "cell_type": "markdown",
      "source": [
        "It is important to restart runtime for graphistry to work!"
      ],
      "metadata": {
        "id": "zVlWGIiHpKHz"
      }
    },
    {
      "cell_type": "code",
      "source": [
        "import pandas as pd\n",
        "import graphistry"
      ],
      "metadata": {
        "id": "Bo4C2KmknE6D"
      },
      "execution_count": 1,
      "outputs": []
    },
    {
      "cell_type": "code",
      "source": [
        "# register graphistry\n",
        "graphistry.register(api=3, protocol=\"https\", server=\"hub.graphistry.com\", username=\"*****\", password=\"*******\")  "
      ],
      "metadata": {
        "id": "-tLoh3kmojoq"
      },
      "execution_count": 2,
      "outputs": []
    },
    {
      "cell_type": "code",
      "source": [
        "links = pd.read_csv('lesmiserables.csv')\n",
        "links.head()"
      ],
      "metadata": {
        "id": "ZwRrriNdqR-7",
        "outputId": "6223faae-58b9-4781-eaa7-54153c2d2da9",
        "colab": {
          "base_uri": "https://localhost:8080/",
          "height": 206
        }
      },
      "execution_count": 4,
      "outputs": [
        {
          "output_type": "execute_result",
          "data": {
            "text/plain": [
              "            source           target  value\n",
              "0         Napoleon           Myriel      1\n",
              "1  Mlle.Baptistine           Myriel      8\n",
              "2     Mme.Magloire           Myriel     10\n",
              "3     Mme.Magloire  Mlle.Baptistine      6\n",
              "4     CountessdeLo           Myriel      1"
            ],
            "text/html": [
              "\n",
              "  <div id=\"df-4f94ed4b-2d15-497b-89fd-211885feeba3\">\n",
              "    <div class=\"colab-df-container\">\n",
              "      <div>\n",
              "<style scoped>\n",
              "    .dataframe tbody tr th:only-of-type {\n",
              "        vertical-align: middle;\n",
              "    }\n",
              "\n",
              "    .dataframe tbody tr th {\n",
              "        vertical-align: top;\n",
              "    }\n",
              "\n",
              "    .dataframe thead th {\n",
              "        text-align: right;\n",
              "    }\n",
              "</style>\n",
              "<table border=\"1\" class=\"dataframe\">\n",
              "  <thead>\n",
              "    <tr style=\"text-align: right;\">\n",
              "      <th></th>\n",
              "      <th>source</th>\n",
              "      <th>target</th>\n",
              "      <th>value</th>\n",
              "    </tr>\n",
              "  </thead>\n",
              "  <tbody>\n",
              "    <tr>\n",
              "      <th>0</th>\n",
              "      <td>Napoleon</td>\n",
              "      <td>Myriel</td>\n",
              "      <td>1</td>\n",
              "    </tr>\n",
              "    <tr>\n",
              "      <th>1</th>\n",
              "      <td>Mlle.Baptistine</td>\n",
              "      <td>Myriel</td>\n",
              "      <td>8</td>\n",
              "    </tr>\n",
              "    <tr>\n",
              "      <th>2</th>\n",
              "      <td>Mme.Magloire</td>\n",
              "      <td>Myriel</td>\n",
              "      <td>10</td>\n",
              "    </tr>\n",
              "    <tr>\n",
              "      <th>3</th>\n",
              "      <td>Mme.Magloire</td>\n",
              "      <td>Mlle.Baptistine</td>\n",
              "      <td>6</td>\n",
              "    </tr>\n",
              "    <tr>\n",
              "      <th>4</th>\n",
              "      <td>CountessdeLo</td>\n",
              "      <td>Myriel</td>\n",
              "      <td>1</td>\n",
              "    </tr>\n",
              "  </tbody>\n",
              "</table>\n",
              "</div>\n",
              "      <button class=\"colab-df-convert\" onclick=\"convertToInteractive('df-4f94ed4b-2d15-497b-89fd-211885feeba3')\"\n",
              "              title=\"Convert this dataframe to an interactive table.\"\n",
              "              style=\"display:none;\">\n",
              "        \n",
              "  <svg xmlns=\"http://www.w3.org/2000/svg\" height=\"24px\"viewBox=\"0 0 24 24\"\n",
              "       width=\"24px\">\n",
              "    <path d=\"M0 0h24v24H0V0z\" fill=\"none\"/>\n",
              "    <path d=\"M18.56 5.44l.94 2.06.94-2.06 2.06-.94-2.06-.94-.94-2.06-.94 2.06-2.06.94zm-11 1L8.5 8.5l.94-2.06 2.06-.94-2.06-.94L8.5 2.5l-.94 2.06-2.06.94zm10 10l.94 2.06.94-2.06 2.06-.94-2.06-.94-.94-2.06-.94 2.06-2.06.94z\"/><path d=\"M17.41 7.96l-1.37-1.37c-.4-.4-.92-.59-1.43-.59-.52 0-1.04.2-1.43.59L10.3 9.45l-7.72 7.72c-.78.78-.78 2.05 0 2.83L4 21.41c.39.39.9.59 1.41.59.51 0 1.02-.2 1.41-.59l7.78-7.78 2.81-2.81c.8-.78.8-2.07 0-2.86zM5.41 20L4 18.59l7.72-7.72 1.47 1.35L5.41 20z\"/>\n",
              "  </svg>\n",
              "      </button>\n",
              "      \n",
              "  <style>\n",
              "    .colab-df-container {\n",
              "      display:flex;\n",
              "      flex-wrap:wrap;\n",
              "      gap: 12px;\n",
              "    }\n",
              "\n",
              "    .colab-df-convert {\n",
              "      background-color: #E8F0FE;\n",
              "      border: none;\n",
              "      border-radius: 50%;\n",
              "      cursor: pointer;\n",
              "      display: none;\n",
              "      fill: #1967D2;\n",
              "      height: 32px;\n",
              "      padding: 0 0 0 0;\n",
              "      width: 32px;\n",
              "    }\n",
              "\n",
              "    .colab-df-convert:hover {\n",
              "      background-color: #E2EBFA;\n",
              "      box-shadow: 0px 1px 2px rgba(60, 64, 67, 0.3), 0px 1px 3px 1px rgba(60, 64, 67, 0.15);\n",
              "      fill: #174EA6;\n",
              "    }\n",
              "\n",
              "    [theme=dark] .colab-df-convert {\n",
              "      background-color: #3B4455;\n",
              "      fill: #D2E3FC;\n",
              "    }\n",
              "\n",
              "    [theme=dark] .colab-df-convert:hover {\n",
              "      background-color: #434B5C;\n",
              "      box-shadow: 0px 1px 3px 1px rgba(0, 0, 0, 0.15);\n",
              "      filter: drop-shadow(0px 1px 2px rgba(0, 0, 0, 0.3));\n",
              "      fill: #FFFFFF;\n",
              "    }\n",
              "  </style>\n",
              "\n",
              "      <script>\n",
              "        const buttonEl =\n",
              "          document.querySelector('#df-4f94ed4b-2d15-497b-89fd-211885feeba3 button.colab-df-convert');\n",
              "        buttonEl.style.display =\n",
              "          google.colab.kernel.accessAllowed ? 'block' : 'none';\n",
              "\n",
              "        async function convertToInteractive(key) {\n",
              "          const element = document.querySelector('#df-4f94ed4b-2d15-497b-89fd-211885feeba3');\n",
              "          const dataTable =\n",
              "            await google.colab.kernel.invokeFunction('convertToInteractive',\n",
              "                                                     [key], {});\n",
              "          if (!dataTable) return;\n",
              "\n",
              "          const docLinkHtml = 'Like what you see? Visit the ' +\n",
              "            '<a target=\"_blank\" href=https://colab.research.google.com/notebooks/data_table.ipynb>data table notebook</a>'\n",
              "            + ' to learn more about interactive tables.';\n",
              "          element.innerHTML = '';\n",
              "          dataTable['output_type'] = 'display_data';\n",
              "          await google.colab.output.renderOutput(dataTable, element);\n",
              "          const docLink = document.createElement('div');\n",
              "          docLink.innerHTML = docLinkHtml;\n",
              "          element.appendChild(docLink);\n",
              "        }\n",
              "      </script>\n",
              "    </div>\n",
              "  </div>\n",
              "  "
            ]
          },
          "metadata": {},
          "execution_count": 4
        }
      ]
    },
    {
      "cell_type": "code",
      "source": [
        "# Plot graph using the source/target columns as source/destination of edges\n",
        "plotter = graphistry.bind(source='source', destination='target')\n",
        "plotter.plot(links)"
      ],
      "metadata": {
        "id": "D2TXYk5iqZJj"
      },
      "execution_count": null,
      "outputs": []
    },
    {
      "cell_type": "code",
      "source": [
        "# New graph adding the number of encounters to edge labels.\n",
        "links['label'] = links.value.map(lambda v: 'Num. Encounters: %d' % v)\n",
        "plotter = plotter.bind(edge_label='label')\n",
        "plotter.plot(links)"
      ],
      "metadata": {
        "id": "DfPOJMTFqz-l",
        "outputId": "bf60c197-b388-4102-d14f-6ef61dc95c0b",
        "colab": {
          "base_uri": "https://localhost:8080/",
          "height": 543
        }
      },
      "execution_count": 6,
      "outputs": [
        {
          "output_type": "execute_result",
          "data": {
            "text/plain": [
              "<IPython.core.display.HTML object>"
            ],
            "text/html": [
              "\n",
              "            <iframe id=\"5d1194a5-e20d-4564-ae88-d89938692aee\" src=\"https://hub.graphistry.com/graph/graph.html?dataset=d3710c7d74c04301a5448b1219b89cad&type=arrow&viztoken=801c8ac8-3590-4479-849b-ff3b1c6ac92d&usertag=820e5f0f-pygraphistry-0.23.1&splashAfter=1649614314&info=true\"\n",
              "                    allowfullscreen=\"true\" webkitallowfullscreen=\"true\" mozallowfullscreen=\"true\"\n",
              "                    oallowfullscreen=\"true\" msallowfullscreen=\"true\"\n",
              "                    style=\"width:100%; height:500px; border: 1px solid #DDD; overflow: hidden\"\n",
              "                    \n",
              "            >\n",
              "            </iframe>\n",
              "        \n",
              "            <script>\n",
              "                try {\n",
              "                  $(\"#5d1194a5-e20d-4564-ae88-d89938692aee\").bind('mousewheel', function(e) { e.preventDefault(); });\n",
              "                } catch (e) { console.error('exn catching scroll', e); }\n",
              "            </script>\n",
              "        "
            ]
          },
          "metadata": {},
          "execution_count": 6
        }
      ]
    },
    {
      "cell_type": "code",
      "source": [
        "!pip install python-igraph"
      ],
      "metadata": {
        "id": "pCQeU7JZrJK4",
        "outputId": "a76866c6-18fa-447c-d056-a8bbee93bd73",
        "colab": {
          "base_uri": "https://localhost:8080/"
        }
      },
      "execution_count": 7,
      "outputs": [
        {
          "output_type": "stream",
          "name": "stdout",
          "text": [
            "Requirement already satisfied: python-igraph in /root/.local/lib/python3.7/site-packages (0.9.9)\n",
            "Requirement already satisfied: igraph==0.9.9 in /root/.local/lib/python3.7/site-packages (from python-igraph) (0.9.9)\n",
            "Requirement already satisfied: texttable>=1.6.2 in /root/.local/lib/python3.7/site-packages (from igraph==0.9.9->python-igraph) (1.6.4)\n"
          ]
        }
      ]
    },
    {
      "cell_type": "code",
      "source": [
        "# Convert our graph from Pandas to Igraph\n",
        "import igraph\n",
        "ig = plotter.pandas2igraph(links)\n",
        "igraph.summary(ig)"
      ],
      "metadata": {
        "id": "qCILtE9driC3",
        "outputId": "ce93277e-a539-49ab-db3e-3457ff17cae3",
        "colab": {
          "base_uri": "https://localhost:8080/"
        }
      },
      "execution_count": 8,
      "outputs": [
        {
          "output_type": "stream",
          "name": "stdout",
          "text": [
            "IGRAPH D--- 77 254 -- \n",
            "+ attr: __nodeid__ (v), label (e), value (e)\n"
          ]
        }
      ]
    },
    {
      "cell_type": "code",
      "source": [
        "# We create two node attributes for pagerank and community\n",
        "ig.vs['pagerank'] = ig.pagerank()\n",
        "ig.vs['community'] = ig.community_infomap().membership \n",
        "igraph.summary(ig)"
      ],
      "metadata": {
        "id": "Aw9gPLXprmNO",
        "outputId": "69489e21-e593-4b22-da06-86eb66ce812e",
        "colab": {
          "base_uri": "https://localhost:8080/"
        }
      },
      "execution_count": 9,
      "outputs": [
        {
          "output_type": "stream",
          "name": "stdout",
          "text": [
            "IGRAPH D--- 77 254 -- \n",
            "+ attr: __nodeid__ (v), community (v), pagerank (v), label (e), value (e)\n"
          ]
        }
      ]
    },
    {
      "cell_type": "code",
      "source": [
        "# The plotter can plot Igraph directly\n",
        "plotter.bind(point_color='community', point_size='pagerank').plot(ig)"
      ],
      "metadata": {
        "id": "xJGazTD-rokc",
        "outputId": "dd7f506e-f1ce-4790-fb9e-1c4d05260e26",
        "colab": {
          "base_uri": "https://localhost:8080/",
          "height": 543
        }
      },
      "execution_count": 10,
      "outputs": [
        {
          "output_type": "execute_result",
          "data": {
            "text/plain": [
              "<IPython.core.display.HTML object>"
            ],
            "text/html": [
              "\n",
              "            <iframe id=\"45327d05-1c05-4bfb-b1b3-96f8763e6e4f\" src=\"https://hub.graphistry.com/graph/graph.html?dataset=1342ce2b49a24b669adf6d128539cde9&type=arrow&viztoken=a45b07a0-aa37-4f56-ad11-b69043dc58ce&usertag=820e5f0f-pygraphistry-0.23.1&splashAfter=1649614459&info=true\"\n",
              "                    allowfullscreen=\"true\" webkitallowfullscreen=\"true\" mozallowfullscreen=\"true\"\n",
              "                    oallowfullscreen=\"true\" msallowfullscreen=\"true\"\n",
              "                    style=\"width:100%; height:500px; border: 1px solid #DDD; overflow: hidden\"\n",
              "                    \n",
              "            >\n",
              "            </iframe>\n",
              "        \n",
              "            <script>\n",
              "                try {\n",
              "                  $(\"#45327d05-1c05-4bfb-b1b3-96f8763e6e4f\").bind('mousewheel', function(e) { e.preventDefault(); });\n",
              "                } catch (e) { console.error('exn catching scroll', e); }\n",
              "            </script>\n",
              "        "
            ]
          },
          "metadata": {},
          "execution_count": 10
        }
      ]
    },
    {
      "cell_type": "code",
      "source": [
        ""
      ],
      "metadata": {
        "id": "KiHOqXAGrsWS"
      },
      "execution_count": null,
      "outputs": []
    }
  ]
}
